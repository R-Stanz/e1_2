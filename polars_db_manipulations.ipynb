{
 "cells": [
  {
   "cell_type": "markdown",
   "id": "7b68f0fd-bfbb-40cc-b7d0-76297126cce6",
   "metadata": {},
   "source": [
    "# Polars Manipulations On A Postgresql DataBase"
   ]
  },
  {
   "cell_type": "markdown",
   "id": "eb9ee431-d06c-4f27-9c8a-e79c7a3a9c09",
   "metadata": {},
   "source": [
    "## Imports"
   ]
  },
  {
   "cell_type": "code",
   "execution_count": 1,
   "id": "c0ae4c27-f1c2-46b8-8d42-a74119216d10",
   "metadata": {},
   "outputs": [],
   "source": [
    "import polars as pl\n",
    "import psycopg\n",
    "from sqlalchemy import create_engine"
   ]
  },
  {
   "cell_type": "markdown",
   "id": "8e496369-dd38-4fed-998e-45b3c6ea041f",
   "metadata": {},
   "source": [
    "## Secrets"
   ]
  },
  {
   "cell_type": "markdown",
   "id": "7a1adecf-ffd5-4a97-bb3f-66a3b06c9bb2",
   "metadata": {},
   "source": [
    "### Retriving Postgresql Docker Secrets"
   ]
  },
  {
   "cell_type": "code",
   "execution_count": 2,
   "id": "7ee2f57a-2fc1-4129-b96b-34984e778a51",
   "metadata": {},
   "outputs": [],
   "source": [
    "db_secrets = {\n",
    "    \"user\": \"\",\n",
    "    \"password\": \"\",\n",
    "    \"name\": \"\"\n",
    "}"
   ]
  },
  {
   "cell_type": "code",
   "execution_count": 3,
   "id": "2d765590-b479-40a0-94c8-98abaef1bcaa",
   "metadata": {},
   "outputs": [],
   "source": [
    "for key in db_secrets.keys():\n",
    "    with open(f\"./secrets/db_{key}.txt\", \"r\") as file:\n",
    "        db_secrets[key] = file.read().strip()"
   ]
  },
  {
   "cell_type": "markdown",
   "id": "bbd6f284-6334-4b4c-b06e-80bbd5a0e54b",
   "metadata": {},
   "source": [
    "## Engine"
   ]
  },
  {
   "cell_type": "markdown",
   "id": "8019b49b-cfb2-4282-b850-e2e79ba2da06",
   "metadata": {},
   "source": [
    "### Engine URL"
   ]
  },
  {
   "cell_type": "code",
   "execution_count": 4,
   "id": "3b194da1-2cd6-4cb6-9575-f91578042db8",
   "metadata": {},
   "outputs": [],
   "source": [
    "engine_url = f\"postgresql+psycopg://{db_secrets['user']}:\" + \\\n",
    "    f\"{db_secrets['password']}@localhost/{db_secrets['name']}\""
   ]
  },
  {
   "cell_type": "markdown",
   "id": "a3e5cb50-e89b-461e-99cc-03fe1e71dd68",
   "metadata": {},
   "source": [
    "### Engine Creation"
   ]
  },
  {
   "cell_type": "code",
   "execution_count": 5,
   "id": "a772908f-9b48-402f-848e-bd6c1e635fd7",
   "metadata": {},
   "outputs": [],
   "source": [
    "engine = create_engine(engine_url)"
   ]
  },
  {
   "cell_type": "markdown",
   "id": "1ef2867a-9faa-47f1-be32-0460ec49b979",
   "metadata": {},
   "source": [
    "## Defining a DataFrame"
   ]
  },
  {
   "cell_type": "code",
   "execution_count": 6,
   "id": "9e6e535c-e29d-4d93-9450-a7f291ad07b8",
   "metadata": {},
   "outputs": [],
   "source": [
    "valley_data = [\n",
    "    pl.Series(\"users\", [\"Jhon Galt\", \"Francisco D'Anconia\"], dtype=pl.String),\n",
    "    pl.Series(\"ages\", [45, 44], dtype=pl.UInt8),\n",
    "    pl.Series(\"professions\", [\"engineer\", \"businessman\"], dtype=pl.Categorical),\n",
    "    pl.Series(\"weights\", [180.32, 174.63], dtype=pl.Float32)\n",
    "]"
   ]
  },
  {
   "cell_type": "code",
   "execution_count": 7,
   "id": "69d612cc-f4fd-40c9-bbbd-c5ed4a3b6674",
   "metadata": {},
   "outputs": [
    {
     "data": {
      "text/html": [
       "<div><style>\n",
       ".dataframe > thead > tr,\n",
       ".dataframe > tbody > tr {\n",
       "  text-align: right;\n",
       "  white-space: pre-wrap;\n",
       "}\n",
       "</style>\n",
       "<table border=\"1\" class=\"dataframe\"><thead><tr><th>users</th><th>ages</th><th>professions</th><th>weights</th></tr></thead><tbody><tr><td>&quot;Jhon Galt&quot;</td><td>45</td><td>&quot;engineer&quot;</td><td>180.32</td></tr><tr><td>&quot;Francisco D&#x27;Anconia&quot;</td><td>44</td><td>&quot;businessman&quot;</td><td>174.63</td></tr></tbody></table></div>"
      ],
      "text/plain": [
       "┌─────────────────────┬──────┬─────────────┬─────────┐\n",
       "│ users               ┆ ages ┆ professions ┆ weights │\n",
       "╞═════════════════════╪══════╪═════════════╪═════════╡\n",
       "│ Jhon Galt           ┆ 45   ┆ engineer    ┆ 180.32  │\n",
       "│ Francisco D'Anconia ┆ 44   ┆ businessman ┆ 174.63  │\n",
       "└─────────────────────┴──────┴─────────────┴─────────┘"
      ]
     },
     "execution_count": 7,
     "metadata": {},
     "output_type": "execute_result"
    }
   ],
   "source": [
    "valley_df = pl.DataFrame(valley_data)\n",
    "\n",
    "pl.Config.set_tbl_hide_column_data_types(True).set_tbl_hide_dataframe_shape(True)(float_precision=2)\n",
    "valley_df"
   ]
  },
  {
   "cell_type": "markdown",
   "id": "a221b9fa-0c19-4868-ad5b-80c78c054097",
   "metadata": {},
   "source": [
    "## Writing Manipulations"
   ]
  },
  {
   "cell_type": "markdown",
   "id": "8a0b237e-44b4-4ea2-b59e-3d408aa3d78b",
   "metadata": {},
   "source": [
    "### Overwriting A DataBase Table"
   ]
  },
  {
   "cell_type": "code",
   "execution_count": 8,
   "id": "28e297ba-da67-4d17-a108-68d689f43602",
   "metadata": {},
   "outputs": [
    {
     "data": {
      "text/plain": [
       "-1"
      ]
     },
     "execution_count": 8,
     "metadata": {},
     "output_type": "execute_result"
    }
   ],
   "source": [
    "valley_df.write_database(\n",
    "    table_name=\"valley_personnel\",\n",
    "    connection=engine_url,\n",
    "    if_table_exists=\"replace\"\n",
    ")"
   ]
  },
  {
   "cell_type": "markdown",
   "id": "a9d365cb-4f16-4602-a4ee-3503d9d887c6",
   "metadata": {},
   "source": [
    "### Appending On A DataBase Table"
   ]
  },
  {
   "cell_type": "markdown",
   "id": "c4c11676-25f5-4727-9adb-e9e360950c3e",
   "metadata": {},
   "source": [
    "#### Appending DataFrame"
   ]
  },
  {
   "cell_type": "code",
   "execution_count": 9,
   "id": "a31b383a-8f49-4f4e-9689-ea427a063459",
   "metadata": {},
   "outputs": [],
   "source": [
    "new_valley_data = [\n",
    "    pl.Series(\"users\", [\"Dagny Taggart\", \"Henry Rearden\"], dtype=pl.String),\n",
    "    pl.Series(\"ages\", [40, 48], dtype=pl.UInt8),\n",
    "    pl.Series(\"professions\", [\"engineer\", \"businessman\"], dtype=pl.Categorical),\n",
    "    pl.Series(\"weights\", [160.32, 190.63], dtype=pl.Float32)\n",
    "]"
   ]
  },
  {
   "cell_type": "code",
   "execution_count": 10,
   "id": "7eb6b7d4-609a-4f7c-867b-4f4c8b6eec94",
   "metadata": {},
   "outputs": [],
   "source": [
    "append_df = pl.DataFrame(new_valley_data)"
   ]
  },
  {
   "cell_type": "code",
   "execution_count": 11,
   "id": "887666e6-b80e-4c7e-b327-3f8f122de356",
   "metadata": {},
   "outputs": [
    {
     "data": {
      "text/plain": [
       "-1"
      ]
     },
     "execution_count": 11,
     "metadata": {},
     "output_type": "execute_result"
    }
   ],
   "source": [
    "append_df.write_database(\n",
    "    table_name=\"valley_personnel\",\n",
    "    connection=engine_url,\n",
    "    if_table_exists=\"append\"\n",
    ")"
   ]
  },
  {
   "cell_type": "markdown",
   "id": "a20a8782-01d5-45a9-aa8a-453782baec10",
   "metadata": {},
   "source": [
    "## Reading Manipulations"
   ]
  },
  {
   "cell_type": "code",
   "execution_count": 12,
   "id": "5deb999e-d8c3-49d9-9655-4405641b2210",
   "metadata": {},
   "outputs": [
    {
     "data": {
      "text/html": [
       "<div><style>\n",
       ".dataframe > thead > tr,\n",
       ".dataframe > tbody > tr {\n",
       "  text-align: right;\n",
       "  white-space: pre-wrap;\n",
       "}\n",
       "</style>\n",
       "<table border=\"1\" class=\"dataframe\"><thead><tr><th>users</th><th>ages</th><th>professions</th><th>weights</th></tr></thead><tbody><tr><td>&quot;Jhon Galt&quot;</td><td>45</td><td>&quot;engineer&quot;</td><td>180.32</td></tr><tr><td>&quot;Francisco D&#x27;Anconia&quot;</td><td>44</td><td>&quot;businessman&quot;</td><td>174.63</td></tr><tr><td>&quot;Dagny Taggart&quot;</td><td>40</td><td>&quot;engineer&quot;</td><td>160.32</td></tr><tr><td>&quot;Henry Rearden&quot;</td><td>48</td><td>&quot;businessman&quot;</td><td>190.63</td></tr></tbody></table></div>"
      ],
      "text/plain": [
       "┌─────────────────────┬──────┬─────────────┬─────────┐\n",
       "│ users               ┆ ages ┆ professions ┆ weights │\n",
       "╞═════════════════════╪══════╪═════════════╪═════════╡\n",
       "│ Jhon Galt           ┆ 45   ┆ engineer    ┆ 180.32  │\n",
       "│ Francisco D'Anconia ┆ 44   ┆ businessman ┆ 174.63  │\n",
       "│ Dagny Taggart       ┆ 40   ┆ engineer    ┆ 160.32  │\n",
       "│ Henry Rearden       ┆ 48   ┆ businessman ┆ 190.63  │\n",
       "└─────────────────────┴──────┴─────────────┴─────────┘"
      ]
     },
     "execution_count": 12,
     "metadata": {},
     "output_type": "execute_result"
    }
   ],
   "source": [
    "with engine.connect() as conn:\n",
    "    result_df = pl.read_database(\"SELECT * FROM valley_personnel\", conn)\n",
    "\n",
    "result_df"
   ]
  },
  {
   "cell_type": "code",
   "execution_count": null,
   "id": "52781cae-f47c-4446-8e0c-756116b0b3ea",
   "metadata": {},
   "outputs": [],
   "source": []
  }
 ],
 "metadata": {
  "kernelspec": {
   "display_name": "Python 3 (ipykernel)",
   "language": "python",
   "name": "python3"
  },
  "language_info": {
   "codemirror_mode": {
    "name": "ipython",
    "version": 3
   },
   "file_extension": ".py",
   "mimetype": "text/x-python",
   "name": "python",
   "nbconvert_exporter": "python",
   "pygments_lexer": "ipython3",
   "version": "3.12.3"
  }
 },
 "nbformat": 4,
 "nbformat_minor": 5
}
